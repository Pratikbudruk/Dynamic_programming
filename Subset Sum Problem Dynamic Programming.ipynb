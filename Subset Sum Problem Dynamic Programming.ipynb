{
 "cells": [
  {
   "cell_type": "markdown",
   "metadata": {},
   "source": [
    "Given a set of non-negative integers, and a value sum, determine if there is a subset of the given set with sum equal to given sum."
   ]
  },
  {
   "cell_type": "code",
   "execution_count": 1,
   "metadata": {},
   "outputs": [],
   "source": [
    "def subset_sum(arr,k):\n",
    "    book = [[False for i in range(k+1)] for i in range(len(arr)+1)]\n",
    "    for i in range(len(arr)+1):\n",
    "        for j in range(k+1):\n",
    "            if  j  == 0 :\n",
    "                book[i][j]= True\n",
    "            elif arr[i-1]<= j :\n",
    "                book[i][j] = book[i-1][j-arr[i-1]] or book[i-1][j]\n",
    "            else:\n",
    "                book[i][j] = book[i-1][j]\n",
    "    if book[len(arr)][k] == True:\n",
    "        i = len(arr)\n",
    "        j = k\n",
    "        ans = []\n",
    "        while i > 0 and j > 0:\n",
    "            while book[i][j] == book[i-1][j]:\n",
    "                i-=1\n",
    "            ans.append(arr[i-1])\n",
    "            j = j - arr[i-1]\n",
    "            i-=1\n",
    "    return ans"
   ]
  },
  {
   "cell_type": "code",
   "execution_count": 2,
   "metadata": {},
   "outputs": [],
   "source": [
    "k=11\n",
    "arr=[2,5,7,6,10]"
   ]
  },
  {
   "cell_type": "code",
   "execution_count": 3,
   "metadata": {},
   "outputs": [
    {
     "data": {
      "text/plain": [
       "[6, 5]"
      ]
     },
     "execution_count": 3,
     "metadata": {},
     "output_type": "execute_result"
    }
   ],
   "source": [
    "subset_sum(arr,k)"
   ]
  },
  {
   "cell_type": "code",
   "execution_count": 4,
   "metadata": {},
   "outputs": [],
   "source": [
    "k=16\n",
    "arr=[2,5,7,6,10]"
   ]
  },
  {
   "cell_type": "code",
   "execution_count": 5,
   "metadata": {},
   "outputs": [
    {
     "data": {
      "text/plain": [
       "[10, 6]"
      ]
     },
     "execution_count": 5,
     "metadata": {},
     "output_type": "execute_result"
    }
   ],
   "source": [
    "subset_sum(arr,k)"
   ]
  },
  {
   "cell_type": "code",
   "execution_count": null,
   "metadata": {},
   "outputs": [],
   "source": []
  }
 ],
 "metadata": {
  "kernelspec": {
   "display_name": "Python 3",
   "language": "python",
   "name": "python3"
  },
  "language_info": {
   "codemirror_mode": {
    "name": "ipython",
    "version": 3
   },
   "file_extension": ".py",
   "mimetype": "text/x-python",
   "name": "python",
   "nbconvert_exporter": "python",
   "pygments_lexer": "ipython3",
   "version": "3.7.3"
  }
 },
 "nbformat": 4,
 "nbformat_minor": 2
}
