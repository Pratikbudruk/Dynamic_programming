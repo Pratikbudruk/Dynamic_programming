{
 "cells": [
  {
   "cell_type": "markdown",
   "metadata": {},
   "source": [
    "Given weights and values of n items, put these items in a knapsack of capacity W to get the maximum total value in the knapsack\n"
   ]
  },
  {
   "cell_type": "code",
   "execution_count": 1,
   "metadata": {},
   "outputs": [],
   "source": [
    "def knapsack(wt,val,W):\n",
    "    n=len(val)\n",
    "    book=[[0 for i in range(W+1)] for i in range(n+1)]\n",
    "    for i in range(n+1):\n",
    "        for w in range(W+1):\n",
    "            if w==0 or i==0:\n",
    "                book[i][w]=0\n",
    "            elif wt[i-1]<=w:\n",
    "                book[i][w]=max(val[i-1]+book[i-1][w-wt[i-1]],book[i-1][w])\n",
    "            else:\n",
    "                book[i][w]=book[i-1][w]\n",
    "    print('max possible val : ')\n",
    "    print(book[n][W])\n",
    "    i = n \n",
    "    j = W\n",
    "    ans=[]\n",
    "    while i > 1 and j > 1:\n",
    "        while book[i][j] == book[i-1][j]:\n",
    "            i-=1\n",
    "        ans.append(wt[i-1])\n",
    "        j = j - wt[i-1]\n",
    "        i-=1 \n",
    "    print('Weights :')\n",
    "    print(ans)"
   ]
  },
  {
   "cell_type": "code",
   "execution_count": 2,
   "metadata": {},
   "outputs": [],
   "source": [
    "wt=[1,3,4,5]\n",
    "val=[1,4,5,7]\n",
    "W=7"
   ]
  },
  {
   "cell_type": "code",
   "execution_count": 3,
   "metadata": {},
   "outputs": [
    {
     "name": "stdout",
     "output_type": "stream",
     "text": [
      "max possible val : \n",
      "9\n",
      "Weights :\n",
      "[4, 3]\n"
     ]
    }
   ],
   "source": [
    "book=knapsack(wt,val,W)"
   ]
  },
  {
   "cell_type": "code",
   "execution_count": 4,
   "metadata": {},
   "outputs": [],
   "source": [
    "val = [60, 100, 120] \n",
    "wt = [10, 20, 30] \n",
    "W = 50"
   ]
  },
  {
   "cell_type": "code",
   "execution_count": 5,
   "metadata": {},
   "outputs": [
    {
     "name": "stdout",
     "output_type": "stream",
     "text": [
      "max possible val : \n",
      "220\n",
      "Weights :\n",
      "[30, 20]\n"
     ]
    }
   ],
   "source": [
    "knapsack(wt,val,W)"
   ]
  },
  {
   "cell_type": "code",
   "execution_count": null,
   "metadata": {},
   "outputs": [],
   "source": []
  }
 ],
 "metadata": {
  "kernelspec": {
   "display_name": "Python 3",
   "language": "python",
   "name": "python3"
  },
  "language_info": {
   "codemirror_mode": {
    "name": "ipython",
    "version": 3
   },
   "file_extension": ".py",
   "mimetype": "text/x-python",
   "name": "python",
   "nbconvert_exporter": "python",
   "pygments_lexer": "ipython3",
   "version": "3.7.3"
  }
 },
 "nbformat": 4,
 "nbformat_minor": 2
}
