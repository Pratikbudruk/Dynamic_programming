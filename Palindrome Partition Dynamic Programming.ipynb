{
 "cells": [
  {
   "cell_type": "markdown",
   "metadata": {},
   "source": [
    "Palindrome Partition Dynamic Programming"
   ]
  },
  {
   "cell_type": "code",
   "execution_count": 1,
   "metadata": {},
   "outputs": [],
   "source": [
    "def isPalindrome(s):\n",
    "    rev = s[::-1]\n",
    "    if (s == rev): \n",
    "        return True\n",
    "    return False\n",
    "        \n",
    "def split_palindrom(str1):\n",
    "    l = len(str1)\n",
    "    book = [[0 for i in range(l)] for j in range(l)]\n",
    "    i = 1\n",
    "    while i < len(book):\n",
    "        for j in range(0,len(book)):\n",
    "            if j+i < len(book):\n",
    "                if isPalindrome(str1[j:j+i+1]):\n",
    "                    book[j][j+i] = 0\n",
    "                else:\n",
    "                    temp = []\n",
    "                    for k in range(j,j+i):\n",
    "                        temp.append(book[j][k]+book[k+1][j+i]+1)\n",
    "                    book[j][j+i] = min(temp)\n",
    "                        \n",
    "        i+=1\n",
    "    return book[0][-1]"
   ]
  },
  {
   "cell_type": "code",
   "execution_count": 2,
   "metadata": {},
   "outputs": [
    {
     "data": {
      "text/plain": [
       "2"
      ]
     },
     "execution_count": 2,
     "metadata": {},
     "output_type": "execute_result"
    }
   ],
   "source": [
    "split_palindrom('abcbm')"
   ]
  },
  {
   "cell_type": "code",
   "execution_count": null,
   "metadata": {},
   "outputs": [],
   "source": []
  }
 ],
 "metadata": {
  "kernelspec": {
   "display_name": "Python 3",
   "language": "python",
   "name": "python3"
  },
  "language_info": {
   "codemirror_mode": {
    "name": "ipython",
    "version": 3
   },
   "file_extension": ".py",
   "mimetype": "text/x-python",
   "name": "python",
   "nbconvert_exporter": "python",
   "pygments_lexer": "ipython3",
   "version": "3.7.3"
  }
 },
 "nbformat": 4,
 "nbformat_minor": 2
}
