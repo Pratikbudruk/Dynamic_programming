{
 "cells": [
  {
   "cell_type": "markdown",
   "metadata": {},
   "source": [
    "Given two sequences, find the length of longest subsequence present in both of them. A subsequence is a sequence that appears in the same relative order, but not necessarily contiguous.\n",
    "\n",
    "Examples:\n",
    "\n",
    "\n",
    "LCS for input Sequences “ABCDGH” and “AEDFHR” is “ADH” of length 3.\n",
    "\n",
    "\n",
    "LCS for input Sequences “AGGTAB” and “GXTXAYB” is “GTAB” of length 4."
   ]
  },
  {
   "cell_type": "code",
   "execution_count": 1,
   "metadata": {},
   "outputs": [],
   "source": [
    "def longest_common_subs(str1,str2):\n",
    "    book = [[0 for i in range(len(str1)+1)] for i in range(len(str2)+1)]\n",
    "    for i in range(len(str2)+1):\n",
    "        for j in range(len(str1)+1):\n",
    "            if i == 0 or j == 0 :\n",
    "                book[i][j]==0\n",
    "            elif str2[i-1]==str1[j-1]:\n",
    "                book[i][j]=book[i-1][j-1]+1\n",
    "            else :\n",
    "                book[i][j]=max(book[i-1][j],book[i][j-1])\n",
    "    print('length of Longest Common Subsequence :')\n",
    "    print(book[len(str2)][len(str1)])\n",
    "    j=len(str1)\n",
    "    i=len(str2)\n",
    "    ans=''\n",
    "    while i > 0 and j > 0:\n",
    "        if book[i-1][j] == book[i][j]:\n",
    "            while book[i-1][j] == book[i][j]:\n",
    "                i-=1\n",
    "        elif book[i][j-1] == book[i][j]:\n",
    "            while book[i][j-1] == book[i][j]:\n",
    "                j-=1\n",
    "        ans += str2[i-1]\n",
    "        i-=1\n",
    "        j-=1 \n",
    "    return ans[::-1]"
   ]
  },
  {
   "cell_type": "code",
   "execution_count": 2,
   "metadata": {},
   "outputs": [],
   "source": [
    "str1='ABCDAF'\n",
    "str2='ACBCF'"
   ]
  },
  {
   "cell_type": "code",
   "execution_count": 3,
   "metadata": {},
   "outputs": [
    {
     "name": "stdout",
     "output_type": "stream",
     "text": [
      "length of Longest Common Subsequence :\n",
      "4\n"
     ]
    },
    {
     "data": {
      "text/plain": [
       "'ABCF'"
      ]
     },
     "execution_count": 3,
     "metadata": {},
     "output_type": "execute_result"
    }
   ],
   "source": [
    "longest_common_subs(str1,str2)"
   ]
  },
  {
   "cell_type": "code",
   "execution_count": null,
   "metadata": {},
   "outputs": [],
   "source": []
  }
 ],
 "metadata": {
  "kernelspec": {
   "display_name": "Python 3",
   "language": "python",
   "name": "python3"
  },
  "language_info": {
   "codemirror_mode": {
    "name": "ipython",
    "version": 3
   },
   "file_extension": ".py",
   "mimetype": "text/x-python",
   "name": "python",
   "nbconvert_exporter": "python",
   "pygments_lexer": "ipython3",
   "version": "3.7.3"
  }
 },
 "nbformat": 4,
 "nbformat_minor": 2
}
